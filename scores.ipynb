{
 "cells": [
  {
   "cell_type": "code",
   "execution_count": 1,
   "metadata": {
    "ExecuteTime": {
     "end_time": "2021-12-16T11:50:01.441064Z",
     "start_time": "2021-12-16T11:49:59.988930Z"
    }
   },
   "outputs": [],
   "source": [
    "import numpy as np\n",
    "import matplotlib.pyplot as plt\n",
    "import pandas as pd\n",
    "import seaborn as sns\n",
    "from matlearn.models import LogisticRegressor\n",
    "from matlearn.preprocessing import split_train_test"
   ]
  },
  {
   "cell_type": "code",
   "execution_count": 2,
   "metadata": {
    "ExecuteTime": {
     "end_time": "2021-12-16T11:50:02.320698Z",
     "start_time": "2021-12-16T11:50:01.441064Z"
    }
   },
   "outputs": [],
   "source": [
    "url = 'https://raw.githubusercontent.com/ThisIsMahdiZare/machineLearning_f/master/Machine-learning-master/Supervised/Regression/Logistic/data/testScore.csv'\n",
    "df = pd.read_csv(url)\n",
    "df.columns = ['score1','score2','admitted']"
   ]
  },
  {
   "cell_type": "code",
   "execution_count": 3,
   "metadata": {
    "ExecuteTime": {
     "end_time": "2021-12-16T11:50:02.351109Z",
     "start_time": "2021-12-16T11:50:02.320698Z"
    }
   },
   "outputs": [
    {
     "data": {
      "text/html": [
       "<div>\n",
       "<style scoped>\n",
       "    .dataframe tbody tr th:only-of-type {\n",
       "        vertical-align: middle;\n",
       "    }\n",
       "\n",
       "    .dataframe tbody tr th {\n",
       "        vertical-align: top;\n",
       "    }\n",
       "\n",
       "    .dataframe thead th {\n",
       "        text-align: right;\n",
       "    }\n",
       "</style>\n",
       "<table border=\"1\" class=\"dataframe\">\n",
       "  <thead>\n",
       "    <tr style=\"text-align: right;\">\n",
       "      <th></th>\n",
       "      <th>score1</th>\n",
       "      <th>score2</th>\n",
       "      <th>admitted</th>\n",
       "    </tr>\n",
       "  </thead>\n",
       "  <tbody>\n",
       "    <tr>\n",
       "      <th>0</th>\n",
       "      <td>30.286711</td>\n",
       "      <td>43.894998</td>\n",
       "      <td>0</td>\n",
       "    </tr>\n",
       "    <tr>\n",
       "      <th>1</th>\n",
       "      <td>35.847409</td>\n",
       "      <td>72.902198</td>\n",
       "      <td>0</td>\n",
       "    </tr>\n",
       "    <tr>\n",
       "      <th>2</th>\n",
       "      <td>60.182599</td>\n",
       "      <td>86.308552</td>\n",
       "      <td>1</td>\n",
       "    </tr>\n",
       "    <tr>\n",
       "      <th>3</th>\n",
       "      <td>79.032736</td>\n",
       "      <td>75.344376</td>\n",
       "      <td>1</td>\n",
       "    </tr>\n",
       "    <tr>\n",
       "      <th>4</th>\n",
       "      <td>45.083277</td>\n",
       "      <td>56.316372</td>\n",
       "      <td>0</td>\n",
       "    </tr>\n",
       "  </tbody>\n",
       "</table>\n",
       "</div>"
      ],
      "text/plain": [
       "      score1     score2  admitted\n",
       "0  30.286711  43.894998         0\n",
       "1  35.847409  72.902198         0\n",
       "2  60.182599  86.308552         1\n",
       "3  79.032736  75.344376         1\n",
       "4  45.083277  56.316372         0"
      ]
     },
     "execution_count": 3,
     "metadata": {},
     "output_type": "execute_result"
    }
   ],
   "source": [
    "df.head()"
   ]
  },
  {
   "cell_type": "markdown",
   "metadata": {},
   "source": [
    "## data analysis"
   ]
  },
  {
   "cell_type": "code",
   "execution_count": 4,
   "metadata": {
    "ExecuteTime": {
     "end_time": "2021-12-16T11:50:02.383070Z",
     "start_time": "2021-12-16T11:50:02.353087Z"
    }
   },
   "outputs": [
    {
     "name": "stdout",
     "output_type": "stream",
     "text": [
      "<class 'pandas.core.frame.DataFrame'>\n",
      "RangeIndex: 99 entries, 0 to 98\n",
      "Data columns (total 3 columns):\n",
      " #   Column    Non-Null Count  Dtype  \n",
      "---  ------    --------------  -----  \n",
      " 0   score1    99 non-null     float64\n",
      " 1   score2    99 non-null     float64\n",
      " 2   admitted  99 non-null     int64  \n",
      "dtypes: float64(2), int64(1)\n",
      "memory usage: 2.4 KB\n",
      "\n",
      "\n",
      " score1      float64\n",
      "score2      float64\n",
      "admitted      int64\n",
      "dtype: object\n",
      "\n",
      "\n",
      "columns : ['score1', 'score2', 'admitted']\n"
     ]
    }
   ],
   "source": [
    "df.info()\n",
    "print('\\n\\n',df.dtypes)\n",
    "print(f'\\n\\ncolumns : {[col for col in df.columns]}')"
   ]
  },
  {
   "cell_type": "code",
   "execution_count": 5,
   "metadata": {
    "ExecuteTime": {
     "end_time": "2021-12-16T11:50:02.399071Z",
     "start_time": "2021-12-16T11:50:02.385069Z"
    }
   },
   "outputs": [
    {
     "name": "stdout",
     "output_type": "stream",
     "text": [
      "first 3 : \n",
      "\n",
      "      score1     score2  admitted\n",
      "0  30.286711  43.894998         0\n",
      "1  35.847409  72.902198         0\n",
      "2  60.182599  86.308552         1\n",
      "\n",
      "last3 : \n",
      "\n",
      "       score1     score2  admitted\n",
      "96  99.315009  68.775409         1\n",
      "97  55.340018  64.931938         1\n",
      "98  74.775893  89.529813         1\n"
     ]
    }
   ],
   "source": [
    "print('first 3 : \\n');print(df.head(3))\n",
    "print()\n",
    "print('last3 : \\n');print(df.tail(3))"
   ]
  },
  {
   "cell_type": "code",
   "execution_count": 6,
   "metadata": {
    "ExecuteTime": {
     "end_time": "2021-12-16T11:50:02.430460Z",
     "start_time": "2021-12-16T11:50:02.402063Z"
    }
   },
   "outputs": [
    {
     "data": {
      "text/html": [
       "<div>\n",
       "<style scoped>\n",
       "    .dataframe tbody tr th:only-of-type {\n",
       "        vertical-align: middle;\n",
       "    }\n",
       "\n",
       "    .dataframe tbody tr th {\n",
       "        vertical-align: top;\n",
       "    }\n",
       "\n",
       "    .dataframe thead th {\n",
       "        text-align: right;\n",
       "    }\n",
       "</style>\n",
       "<table border=\"1\" class=\"dataframe\">\n",
       "  <thead>\n",
       "    <tr style=\"text-align: right;\">\n",
       "      <th></th>\n",
       "      <th>score1</th>\n",
       "      <th>score2</th>\n",
       "      <th>admitted</th>\n",
       "    </tr>\n",
       "  </thead>\n",
       "  <tbody>\n",
       "    <tr>\n",
       "      <th>count</th>\n",
       "      <td>99.000000</td>\n",
       "      <td>99.000000</td>\n",
       "      <td>99.000000</td>\n",
       "    </tr>\n",
       "    <tr>\n",
       "      <th>mean</th>\n",
       "      <td>65.957614</td>\n",
       "      <td>66.102779</td>\n",
       "      <td>0.606061</td>\n",
       "    </tr>\n",
       "    <tr>\n",
       "      <th>std</th>\n",
       "      <td>19.302009</td>\n",
       "      <td>18.638875</td>\n",
       "      <td>0.491108</td>\n",
       "    </tr>\n",
       "    <tr>\n",
       "      <th>min</th>\n",
       "      <td>30.058822</td>\n",
       "      <td>30.603263</td>\n",
       "      <td>0.000000</td>\n",
       "    </tr>\n",
       "    <tr>\n",
       "      <th>25%</th>\n",
       "      <td>51.297736</td>\n",
       "      <td>47.978125</td>\n",
       "      <td>0.000000</td>\n",
       "    </tr>\n",
       "    <tr>\n",
       "      <th>50%</th>\n",
       "      <td>67.319257</td>\n",
       "      <td>66.589353</td>\n",
       "      <td>1.000000</td>\n",
       "    </tr>\n",
       "    <tr>\n",
       "      <th>75%</th>\n",
       "      <td>80.234877</td>\n",
       "      <td>79.876423</td>\n",
       "      <td>1.000000</td>\n",
       "    </tr>\n",
       "    <tr>\n",
       "      <th>max</th>\n",
       "      <td>99.827858</td>\n",
       "      <td>98.869436</td>\n",
       "      <td>1.000000</td>\n",
       "    </tr>\n",
       "  </tbody>\n",
       "</table>\n",
       "</div>"
      ],
      "text/plain": [
       "          score1     score2   admitted\n",
       "count  99.000000  99.000000  99.000000\n",
       "mean   65.957614  66.102779   0.606061\n",
       "std    19.302009  18.638875   0.491108\n",
       "min    30.058822  30.603263   0.000000\n",
       "25%    51.297736  47.978125   0.000000\n",
       "50%    67.319257  66.589353   1.000000\n",
       "75%    80.234877  79.876423   1.000000\n",
       "max    99.827858  98.869436   1.000000"
      ]
     },
     "execution_count": 6,
     "metadata": {},
     "output_type": "execute_result"
    }
   ],
   "source": [
    "df.describe()"
   ]
  },
  {
   "cell_type": "code",
   "execution_count": 7,
   "metadata": {
    "ExecuteTime": {
     "end_time": "2021-12-16T11:50:02.445472Z",
     "start_time": "2021-12-16T11:50:02.432460Z"
    }
   },
   "outputs": [
    {
     "name": "stdout",
     "output_type": "stream",
     "text": [
      "minimum score1 : 30.058822446698\n",
      " maximum score1 : 99.8278577969213\n",
      "\n",
      "\n",
      "minimum score2 : 30.6032632342801\n",
      " maximum score2 : 98.8694357422061\n"
     ]
    }
   ],
   "source": [
    "print(f'minimum score1 : {df.score1.min()}\\n maximum score1 : {df.score1.max()}')\n",
    "print('\\n')\n",
    "print(f'minimum score2 : {df.score2.min()}\\n maximum score2 : {df.score2.max()}')"
   ]
  },
  {
   "cell_type": "code",
   "execution_count": 8,
   "metadata": {
    "ExecuteTime": {
     "end_time": "2021-12-16T11:50:02.461445Z",
     "start_time": "2021-12-16T11:50:02.447450Z"
    }
   },
   "outputs": [
    {
     "name": "stdout",
     "output_type": "stream",
     "text": [
      "median : \n",
      "score1      67.319257\n",
      "score2      66.589353\n",
      "admitted     1.000000\n",
      "dtype: float64\n",
      "\n",
      " mean : \n",
      "score1      65.957614\n",
      "score2      66.102779\n",
      "admitted     0.606061\n",
      "dtype: float64\n"
     ]
    }
   ],
   "source": [
    "print(f'median : \\n{df.median()}\\n\\n mean : \\n{df.mean()}')"
   ]
  },
  {
   "cell_type": "code",
   "execution_count": 9,
   "metadata": {
    "ExecuteTime": {
     "end_time": "2021-12-16T11:50:02.477448Z",
     "start_time": "2021-12-16T11:50:02.467447Z"
    }
   },
   "outputs": [
    {
     "data": {
      "text/plain": [
       "score1      False\n",
       "score2      False\n",
       "admitted    False\n",
       "dtype: bool"
      ]
     },
     "execution_count": 9,
     "metadata": {},
     "output_type": "execute_result"
    }
   ],
   "source": [
    "#checking if data does not consist missing values\n",
    "df.isna().any()"
   ]
  },
  {
   "cell_type": "markdown",
   "metadata": {
    "ExecuteTime": {
     "end_time": "2020-10-20T16:35:27.680555Z",
     "start_time": "2020-10-20T16:35:27.676193Z"
    }
   },
   "source": [
    "## visualization"
   ]
  },
  {
   "cell_type": "code",
   "execution_count": 10,
   "metadata": {
    "ExecuteTime": {
     "end_time": "2021-12-16T11:50:02.667324Z",
     "start_time": "2021-12-16T11:50:02.479443Z"
    }
   },
   "outputs": [
    {
     "name": "stdout",
     "output_type": "stream",
     "text": [
      "1    60\n",
      "0    39\n",
      "Name: admitted, dtype: int64\n"
     ]
    },
    {
     "name": "stderr",
     "output_type": "stream",
     "text": [
      "C:\\ProgramData\\Anaconda3\\lib\\site-packages\\seaborn\\_decorators.py:36: FutureWarning: Pass the following variable as a keyword arg: x. From version 0.12, the only valid positional argument will be `data`, and passing other arguments without an explicit keyword will result in an error or misinterpretation.\n",
      "  warnings.warn(\n"
     ]
    },
    {
     "data": {
      "image/png": "[encoded data removed]",
      "text/plain": [
       "<Figure size 432x288 with 1 Axes>"
      ]
     },
     "metadata": {
      "needs_background": "light"
     },
     "output_type": "display_data"
    }
   ],
   "source": [
    "print(df['admitted'].value_counts())\n",
    "sns.countplot(df.admitted);"
   ]
  },
  {
   "cell_type": "code",
   "execution_count": 11,
   "metadata": {
    "ExecuteTime": {
     "end_time": "2021-12-16T11:50:02.939169Z",
     "start_time": "2021-12-16T11:50:02.669323Z"
    }
   },
   "outputs": [
    {
     "data": {
      "text/plain": [
       "<matplotlib.legend.Legend at 0x1531df910d0>"
      ]
     },
     "execution_count": 11,
     "metadata": {},
     "output_type": "execute_result"
    },
    {
     "data": {
      "image/png": "[encoded data removed]",
      "text/plain": [
       "<Figure size 432x288 with 1 Axes>"
      ]
     },
     "metadata": {
      "needs_background": "light"
     },
     "output_type": "display_data"
    }
   ],
   "source": [
    "plt.scatter(df[df.admitted==0].score1,df[df.admitted==0].score2,label='not admitted');\n",
    "plt.scatter(df[df.admitted==1].score1,df[df.admitted==1].score2,color='red',label='admitted');\n",
    "plt.xlabel('score1');plt.ylabel('score2');plt.legend()"
   ]
  },
  {
   "cell_type": "code",
   "execution_count": 12,
   "metadata": {
    "ExecuteTime": {
     "end_time": "2021-12-16T11:50:03.235019Z",
     "start_time": "2021-12-16T11:50:02.942169Z"
    }
   },
   "outputs": [
    {
     "data": {
      "image/png": "[encoded data removed]",
      "text/plain": [
       "<Figure size 864x216 with 2 Axes>"
      ]
     },
     "metadata": {
      "needs_background": "light"
     },
     "output_type": "display_data"
    }
   ],
   "source": [
    "fig2 = plt.figure(figsize=(12,3))\n",
    "plt.subplot(1,3,1)\n",
    "df.score1.hist(label='score1',grid=False);\n",
    "plt.legend()\n",
    "plt.subplot(1,3,3)\n",
    "df.score1.hist(label='score2',color='r',grid=False);\n",
    "plt.legend();"
   ]
  },
  {
   "cell_type": "markdown",
   "metadata": {},
   "source": [
    "## training"
   ]
  },
  {
   "cell_type": "code",
   "execution_count": 13,
   "metadata": {
    "ExecuteTime": {
     "end_time": "2021-12-16T11:50:03.250991Z",
     "start_time": "2021-12-16T11:50:03.236998Z"
    }
   },
   "outputs": [],
   "source": [
    "x = df.values[:,:-1]\n",
    "y = np.asarray(df.admitted).reshape(-1,1)"
   ]
  },
  {
   "cell_type": "code",
   "execution_count": 14,
   "metadata": {
    "ExecuteTime": {
     "end_time": "2021-12-16T11:50:03.266979Z",
     "start_time": "2021-12-16T11:50:03.252989Z"
    }
   },
   "outputs": [
    {
     "data": {
      "text/plain": [
       "((79, 2), (20, 2), (79, 1), (20, 1))"
      ]
     },
     "execution_count": 14,
     "metadata": {},
     "output_type": "execute_result"
    }
   ],
   "source": [
    "x_train,x_test,y_train,y_test=split_train_test(x,y,shuffle=True)\n",
    "x_train.shape,x_test.shape,y_train.shape,y_test.shape"
   ]
  },
  {
   "cell_type": "code",
   "execution_count": 21,
   "metadata": {
    "ExecuteTime": {
     "end_time": "2021-12-16T11:50:30.853266Z",
     "start_time": "2021-12-16T11:50:30.820283Z"
    },
    "scrolled": false
   },
   "outputs": [
    {
     "name": "stdout",
     "output_type": "stream",
     "text": [
      "\n",
      "\n",
      " **** EPOCH 1 ****\n",
      "\n",
      "iter   1: training loss = 35.89\n",
      "\n",
      "\n",
      " **** EPOCH 2 ****\n",
      "\n",
      "iter   1: training loss = 32.22\n",
      "\n",
      "\n",
      " **** EPOCH 3 ****\n",
      "\n",
      "iter   1: training loss = 28.56\n",
      "\n",
      "\n",
      " **** EPOCH 4 ****\n",
      "\n",
      "iter   1: training loss = 24.90\n",
      "\n",
      "\n",
      " **** EPOCH 5 ****\n",
      "\n",
      "iter   1: training loss = 21.24\n",
      "\n",
      "\n",
      " **** EPOCH 6 ****\n",
      "\n",
      "iter   1: training loss = 17.57\n",
      "\n",
      "\n",
      " **** EPOCH 7 ****\n",
      "\n",
      "iter   1: training loss = 13.91\n",
      "\n",
      "\n",
      " **** EPOCH 8 ****\n",
      "\n",
      "iter   1: training loss = 10.25\n",
      "\n",
      "\n",
      " **** EPOCH 9 ****\n",
      "\n",
      "iter   1: training loss = 6.60\n",
      "\n",
      "\n",
      " **** EPOCH 10 ****\n",
      "\n",
      "iter   1: training loss = 3.30\n",
      "\n",
      "\n",
      " **** EPOCH 11 ****\n",
      "\n",
      "iter   1: training loss = 1.68\n",
      "\n",
      "\n",
      " **** EPOCH 12 ****\n",
      "\n",
      "iter   1: training loss = 1.51\n",
      "\n",
      "\n",
      " **** EPOCH 13 ****\n",
      "\n",
      "iter   1: training loss = 1.47\n",
      "\n",
      "\n",
      " **** EPOCH 14 ****\n",
      "\n",
      "iter   1: training loss = 1.43\n",
      "\n",
      "\n",
      " **** EPOCH 15 ****\n",
      "\n",
      "iter   1: training loss = 1.39\n",
      "\n",
      "\n",
      " **** EPOCH 16 ****\n",
      "\n",
      "iter   1: training loss = 1.35\n",
      "\n",
      "\n",
      " **** EPOCH 17 ****\n",
      "\n",
      "iter   1: training loss = 1.31\n",
      "\n",
      "\n",
      " **** EPOCH 18 ****\n",
      "\n",
      "iter   1: training loss = 1.27\n",
      "\n",
      "\n",
      " **** EPOCH 19 ****\n",
      "\n",
      "iter   1: training loss = 1.24\n",
      "\n",
      "\n",
      " **** EPOCH 20 ****\n",
      "\n",
      "iter   1: training loss = 1.20\n",
      "End of the algorithm at iteration number 55.\n",
      "The differences in costs is less than 0.001\n"
     ]
    }
   ],
   "source": [
    "clf = LogisticRegressor(lr=.001, train_bias=True, n_reports=20, maxEpoch=200, n_iter_per_epoch=1, n_converLim=1, activ='sigmoid', use_validation=False)\n",
    "clf.train(x_train, y_train)"
   ]
  },
  {
   "cell_type": "code",
   "execution_count": 22,
   "metadata": {
    "ExecuteTime": {
     "end_time": "2021-12-16T11:50:34.626976Z",
     "start_time": "2021-12-16T11:50:34.611971Z"
    }
   },
   "outputs": [
    {
     "data": {
      "text/plain": [
       "(array([1.00199653]),\n",
       " array([[-0.01028102],\n",
       "        [ 0.00475318]]))"
      ]
     },
     "execution_count": 22,
     "metadata": {},
     "output_type": "execute_result"
    }
   ],
   "source": [
    "clf.bias,clf.weight"
   ]
  },
  {
   "cell_type": "code",
   "execution_count": 23,
   "metadata": {
    "ExecuteTime": {
     "end_time": "2021-12-16T11:50:35.008740Z",
     "start_time": "2021-12-16T11:50:34.989751Z"
    }
   },
   "outputs": [
    {
     "name": "stdout",
     "output_type": "stream",
     "text": [
      "0.75\n"
     ]
    }
   ],
   "source": [
    "from sklearn.metrics import accuracy_score\n",
    "sk_p = clf.predict(x_test)\n",
    "model_p = clf.predict(x_test)\n",
    "print(accuracy_score(y_test,model_p))"
   ]
  }
 ],
 "metadata": {
  "celltoolbar": "Initialization Cell",
  "hide_input": false,
  "kernelspec": {
   "display_name": "Python 3 (ipykernel)",
   "language": "python",
   "name": "python3"
  },
  "language_info": {
   "codemirror_mode": {
    "name": "ipython",
    "version": 3
   },
   "file_extension": ".py",
   "mimetype": "text/x-python",
   "name": "python",
   "nbconvert_exporter": "python",
   "pygments_lexer": "ipython3",
   "version": "3.9.7"
  },
  "nbTranslate": {
   "displayLangs": [
    "*"
   ],
   "hotkey": "alt-t",
   "langInMainMenu": true,
   "sourceLang": "en",
   "targetLang": "fr",
   "useGoogleTranslate": true
  },
  "toc": {
   "base_numbering": 1,
   "nav_menu": {},
   "number_sections": true,
   "sideBar": true,
   "skip_h1_title": false,
   "title_cell": "Table of Contents",
   "title_sidebar": "Contents",
   "toc_cell": false,
   "toc_position": {},
   "toc_section_display": true,
   "toc_window_display": false
  },
  "varInspector": {
   "cols": {
    "lenName": 16,
    "lenType": 16,
    "lenVar": 40
   },
   "kernels_config": {
    "python": {
     "delete_cmd_postfix": "",
     "delete_cmd_prefix": "del ",
     "library": "var_list.py",
     "varRefreshCmd": "print(var_dic_list())"
    },
    "r": {
     "delete_cmd_postfix": ") ",
     "delete_cmd_prefix": "rm(",
     "library": "var_list.r",
     "varRefreshCmd": "cat(var_dic_list()) "
    }
   },
   "types_to_exclude": [
    "module",
    "function",
    "builtin_function_or_method",
    "instance",
    "_Feature"
   ],
   "window_display": false
  }
 },
 "nbformat": 4,
 "nbformat_minor": 4
}
